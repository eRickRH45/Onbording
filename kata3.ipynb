{
 "cells": [
  {
   "cell_type": "markdown",
   "metadata": {},
   "source": [
    "# Kata 3"
   ]
  },
  {
   "cell_type": "markdown",
   "metadata": {},
   "source": [
    "## Ejercicio - Escribir declaraciones if, else, y elif"
   ]
  },
  {
   "cell_type": "markdown",
   "metadata": {},
   "source": [
    "### Problema 1"
   ]
  },
  {
   "cell_type": "code",
   "execution_count": 28,
   "metadata": {},
   "outputs": [
    {
     "name": "stdout",
     "output_type": "stream",
     "text": [
      "Advertenia\n"
     ]
    }
   ],
   "source": [
    "asteroide=49\n",
    "if asteroide >=25 :\n",
    "    print(\"Advertenia\")\n",
    "else:\n",
    "    print(\"Siga con su dia \")"
   ]
  },
  {
   "cell_type": "markdown",
   "metadata": {},
   "source": [
    "### Problema 2"
   ]
  },
  {
   "cell_type": "code",
   "execution_count": 29,
   "metadata": {},
   "outputs": [
    {
     "name": "stdout",
     "output_type": "stream",
     "text": [
      "Siga con su dia \n"
     ]
    }
   ],
   "source": [
    "asteroide=19\n",
    "if asteroide >=20 :\n",
    "    print(\"Hay una luz en el cielo\")\n",
    "else:\n",
    "    print(\"Siga con su dia \")"
   ]
  },
  {
   "cell_type": "markdown",
   "metadata": {},
   "source": [
    "## Ejercicio: Uso de operadores and y or"
   ]
  },
  {
   "cell_type": "markdown",
   "metadata": {},
   "source": [
    "### Problema 3"
   ]
  },
  {
   "cell_type": "code",
   "execution_count": 30,
   "metadata": {},
   "outputs": [
    {
     "name": "stdout",
     "output_type": "stream",
     "text": [
      "Hay una luz en el cielo\n"
     ]
    }
   ],
   "source": [
    "asteroide_dimension =50\n",
    "velocidad_asteroide=25\n",
    "if asteroide_dimension>25 and velocidad_asteroide >25:\n",
    "    print(\"Advertencia un Asteroide se acerca a la tierra\")\n",
    "elif velocidad_asteroide >=20:\n",
    "    print(\"Hay una luz en el cielo\")\n",
    "elif asteroide_dimension <25:\n",
    "    print(\"Siga con su camino\")\n",
    "else: \n",
    "    print(\"Siga con su camino\")"
   ]
  }
 ],
 "metadata": {
  "interpreter": {
   "hash": "879d193fec41838907740fe3ad07584a850324c41feaf3fc33a5dbc5ecf9d73b"
  },
  "kernelspec": {
   "display_name": "Python 3.8.8rc1 64-bit",
   "language": "python",
   "name": "python3"
  },
  "language_info": {
   "codemirror_mode": {
    "name": "ipython",
    "version": 3
   },
   "file_extension": ".py",
   "mimetype": "text/x-python",
   "name": "python",
   "nbconvert_exporter": "python",
   "pygments_lexer": "ipython3",
   "version": "3.8.8"
  },
  "orig_nbformat": 4
 },
 "nbformat": 4,
 "nbformat_minor": 2
}
