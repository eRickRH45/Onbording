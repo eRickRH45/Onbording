{
 "cells": [
  {
   "cell_type": "markdown",
   "metadata": {},
   "source": [
    "# Kata 4"
   ]
  },
  {
   "cell_type": "markdown",
   "metadata": {},
   "source": [
    "## Ejercicio 1: Transformar cadenas"
   ]
  },
  {
   "cell_type": "code",
   "execution_count": 64,
   "metadata": {},
   "outputs": [
    {
     "data": {
      "text/plain": [
       "['Interesting facts about the Moon',\n",
       " \" The Moon is Earth's only satellite\",\n",
       " ' There are several interesting facts about the Moon and how it affects life here on Earth',\n",
       " ' \\nOn average, the Moon moves 4cm away from the Earth every year',\n",
       " ' This yearly drift is not significant enough to cause immediate effects on Earth',\n",
       " ' The highest daylight temperature of the Moon is 127 C',\n",
       " '']"
      ]
     },
     "execution_count": 64,
     "metadata": {},
     "output_type": "execute_result"
    }
   ],
   "source": [
    "texto = \"\"\"Interesting facts about the Moon. The Moon is Earth's only satellite. There are several interesting facts about the Moon and how it affects life here on Earth. \n",
    "On average, the Moon moves 4cm away from the Earth every year. This yearly drift is not significant enough to cause immediate effects on Earth. The highest daylight temperature of the Moon is 127 C.\"\"\"\n",
    "Oraciones = texto.split('.')\n",
    "Oraciones"
   ]
  },
  {
   "cell_type": "code",
   "execution_count": 68,
   "metadata": {},
   "outputs": [
    {
     "name": "stdout",
     "output_type": "stream",
     "text": [
      " \n",
      "On average, the Moon moves 4cm away from the Earth every year\n",
      " The highest daylight temperature of the Moon is 127 Celsius\n"
     ]
    }
   ],
   "source": [
    "\n",
    "palabras_claves  = [\"average\", \"temperature\", \"distance\"]\n",
    "for dato in Oraciones:\n",
    "    for palabras_clave in palabras_claves:\n",
    "        if palabras_clave in dato:\n",
    "            print(dato.replace('C','Celsius'))\n",
    "            break"
   ]
  },
  {
   "cell_type": "markdown",
   "metadata": {},
   "source": [
    "## Ejercicio 2: Formateando Cadenas"
   ]
  },
  {
   "cell_type": "code",
   "execution_count": 85,
   "metadata": {},
   "outputs": [
    {
     "name": "stdout",
     "output_type": "stream",
     "text": [
      "Datos De Gravedad Sobre Moon\n",
      "--------------------------------------------------\n",
      "Nombre del planeta: Earth\n",
      "Gravedad en Moon : 1.6199999999999999 m/s^2\n",
      "\n",
      "Datos de gravedad sobre: Marte \n",
      "--------------------------------------------------\n",
      "Nombre del planeta: Ganímedes\n",
      "Gravedad en  Marte  : 0.00143 m/s\n",
      "\n"
     ]
    }
   ],
   "source": [
    "name = \"Moon\"\n",
    "gravity = 0.00162 # en kms\n",
    "planet = \"Earth\"\n",
    "titulo= f'datos de gravedad sobre {name}'\n",
    "datos =f\"\"\"{'-'*50}\n",
    "Nombre del planeta: {planet}\n",
    "Gravedad en {name} : {gravity*1000} m/s^2\"\"\"\n",
    "template=f\"\"\"{titulo.title()}\n",
    "{datos}\"\"\"\n",
    "name = \"Marte \"\n",
    "gravity = 0.00143 # en kms\n",
    "planet = \"Ganímedes\"\n",
    "print(template)\n",
    "new_template= f\"\"\"\n",
    "Datos de gravedad sobre: {name}\n",
    "{'-'*50}\n",
    "Nombre del planeta: {planet}\n",
    "Gravedad en  {name} : {gravity} m/s\n",
    "\"\"\"\n",
    "print(new_template.format(name=name,planet=planet,gravity=gravity*1000))"
   ]
  }
 ],
 "metadata": {
  "interpreter": {
   "hash": "879d193fec41838907740fe3ad07584a850324c41feaf3fc33a5dbc5ecf9d73b"
  },
  "kernelspec": {
   "display_name": "Python 3.8.8rc1 64-bit",
   "language": "python",
   "name": "python3"
  },
  "language_info": {
   "codemirror_mode": {
    "name": "ipython",
    "version": 3
   },
   "file_extension": ".py",
   "mimetype": "text/x-python",
   "name": "python",
   "nbconvert_exporter": "python",
   "pygments_lexer": "ipython3",
   "version": "3.8.8"
  },
  "orig_nbformat": 4
 },
 "nbformat": 4,
 "nbformat_minor": 2
}
