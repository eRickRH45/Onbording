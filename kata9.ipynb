{
 "cells": [
  {
   "cell_type": "markdown",
   "metadata": {},
   "source": [
    "# Kata 9"
   ]
  },
  {
   "cell_type": "markdown",
   "metadata": {},
   "source": [
    "## Ejercicio: Uso de funciones en Python"
   ]
  },
  {
   "cell_type": "code",
   "execution_count": 38,
   "metadata": {},
   "outputs": [
    {
     "name": "stdout",
     "output_type": "stream",
     "text": [
      "Informe del combustible%\n",
      "    El promedio del combustible es 178.33333333333334\n",
      "    Tanque 1: 80%\n",
      "    Tanque 2: 70%\n",
      "    Tanque 3: 85%\n",
      "    \n"
     ]
    }
   ],
   "source": [
    "def informe(tanque1,tanque2,tanque3):\n",
    "    return f\"\"\"Informe del combustible%\n",
    "    {promedio(tanque1,tanque2,tanque3)}\n",
    "    Tanque 1: {tanque1}%\n",
    "    Tanque 2: {tanque2}%\n",
    "    Tanque 3: {tanque3}%\n",
    "    \"\"\"\n",
    "def promedio(tanque1,tanque2,tanque3):\n",
    "    prom =tanque1+tanque2+tanque3/3\n",
    "    return f'El promedio del combustible es {prom}'\n",
    "print(informe(80,70,85))\n"
   ]
  },
  {
   "cell_type": "markdown",
   "metadata": {},
   "source": [
    "## Ejercicio 2: Trabajo con argumentos de palabra clave"
   ]
  },
  {
   "cell_type": "code",
   "execution_count": 39,
   "metadata": {},
   "outputs": [
    {
     "name": "stdout",
     "output_type": "stream",
     "text": [
      "Destino Marte \n",
      "    Tiempo de vuelo: 189 minutos\n",
      "    Combustible total restante: 190000 galones\n",
      "    Combustible restante en cada tanque:\n",
      "     Tanque t_1 : 150000 galones restantes\n",
      "     Tanque t_2 : 40000 galones restantes\n",
      "\n"
     ]
    }
   ],
   "source": [
    "def informe_vuelo(destino,*minutos, **combustible_restante):\n",
    "    reporte_mision = f\"\"\"Destino {destino} \n",
    "    Tiempo de vuelo: {sum(minutos)} minutos\n",
    "    Combustible total restante: {sum(combustible_restante.values())} galones\n",
    "    Combustible restante en cada tanque:\\n\"\"\"\n",
    "    for tanque , galones in combustible_restante.items():\n",
    "             reporte_mision += f\"     Tanque {tanque} : {galones} galones restantes\\n\"\n",
    "    return reporte_mision\n",
    "      \n",
    "print(informe_vuelo('Marte',35, 154,t_1=150000, t_2=40000))"
   ]
  },
  {
   "cell_type": "markdown",
   "metadata": {},
   "source": []
  }
 ],
 "metadata": {
  "interpreter": {
   "hash": "879d193fec41838907740fe3ad07584a850324c41feaf3fc33a5dbc5ecf9d73b"
  },
  "kernelspec": {
   "display_name": "Python 3.8.8rc1 64-bit",
   "language": "python",
   "name": "python3"
  },
  "language_info": {
   "codemirror_mode": {
    "name": "ipython",
    "version": 3
   },
   "file_extension": ".py",
   "mimetype": "text/x-python",
   "name": "python",
   "nbconvert_exporter": "python",
   "pygments_lexer": "ipython3",
   "version": "3.8.8rc1"
  },
  "orig_nbformat": 4
 },
 "nbformat": 4,
 "nbformat_minor": 2
}
