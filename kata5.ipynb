{
 "cells": [
  {
   "cell_type": "markdown",
   "metadata": {},
   "source": [
    "# Kata 5"
   ]
  },
  {
   "cell_type": "markdown",
   "metadata": {},
   "source": [
    "## Ejercicio 1 - Utilizar operadores aritméticos"
   ]
  },
  {
   "cell_type": "code",
   "execution_count": 24,
   "metadata": {},
   "outputs": [
    {
     "name": "stdout",
     "output_type": "stream",
     "text": [
      "Distancia entre planetas:628949330 Km\n",
      "Distancia entre planetas:390577533.93 millas\n"
     ]
    }
   ],
   "source": [
    "distancia_tierra=149597870 # km\n",
    "distancia_jupiter=778547200 # km\n",
    "distancia_planetas=abs(distancia_tierra-distancia_jupiter)\n",
    "print(f\"\"\"Distancia entre planetas:{distancia_planetas} Km\n",
    "Distancia entre planetas:{distancia_planetas*0.621} millas\"\"\")\n"
   ]
  },
  {
   "cell_type": "markdown",
   "metadata": {},
   "source": [
    "## Ejercicio 2"
   ]
  },
  {
   "cell_type": "code",
   "execution_count": 10,
   "metadata": {},
   "outputs": [
    {
     "name": "stdout",
     "output_type": "stream",
     "text": [
      "\"Distancia del primer planeta: 5\n",
      "Distancia del segundo planeta: 10\n",
      "Distancia entre planetas: 5 en Km\n",
      "Distancia entre planetas: 3.105\n"
     ]
    }
   ],
   "source": [
    "planeta_1=input(\"Ingresa la distancia del primer planeta:\")\n",
    "planeta_2=input(\"Ingresa la distancia del segundo planeta:\")\n",
    "planeta_1_int=int(planeta_1)\n",
    "planeta_2_int=int(planeta_2)\n",
    "diferencia=abs(planeta_1_int-planeta_2_int)\n",
    "print(f\"\"\"\"Distancia del primer planeta: {planeta_1_int}\n",
    "Distancia del segundo planeta: {planeta_2_int}\n",
    "Distancia entre planetas: {diferencia} en Km\n",
    "Distancia entre planetas: {diferencia*0.621} en millas \n",
    "\"\"\")\n"
   ]
  }
 ],
 "metadata": {
  "interpreter": {
   "hash": "879d193fec41838907740fe3ad07584a850324c41feaf3fc33a5dbc5ecf9d73b"
  },
  "kernelspec": {
   "display_name": "Python 3.8.8rc1 64-bit",
   "language": "python",
   "name": "python3"
  },
  "language_info": {
   "codemirror_mode": {
    "name": "ipython",
    "version": 3
   },
   "file_extension": ".py",
   "mimetype": "text/x-python",
   "name": "python",
   "nbconvert_exporter": "python",
   "pygments_lexer": "ipython3",
   "version": "3.8.8"
  },
  "orig_nbformat": 4
 },
 "nbformat": 4,
 "nbformat_minor": 2
}
